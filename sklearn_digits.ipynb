{
 "cells": [
  {
   "cell_type": "code",
   "execution_count": 1,
   "id": "528dd6f3",
   "metadata": {},
   "outputs": [],
   "source": [
    "import torch\n",
    "import torch.nn as nn\n",
    "import torch.optim as optim\n",
    "import torch.nn.functional as F\n",
    "\n",
    "from torch.autograd import Variable\n",
    "from torch.utils.data import DataLoader, TensorDataset\n",
    "\n",
    "from sklearn.datasets import load_digits\n",
    "from sklearn.datasets import fetch_openml\n",
    "from sklearn import datasets, model_selection\n",
    "\n",
    "import pandas as pd\n",
    "from matplotlib import pyplot as plt\n",
    "from matplotlib import cm\n",
    "%matplotlib inline"
   ]
  },
  {
   "cell_type": "code",
   "execution_count": 2,
   "id": "d8c32d64",
   "metadata": {},
   "outputs": [],
   "source": [
    "mnist = fetch_openml('mnist_784')"
   ]
  },
  {
   "cell_type": "code",
   "execution_count": 3,
   "id": "327d8261",
   "metadata": {
    "scrolled": true
   },
   "outputs": [
    {
     "name": "stdout",
     "output_type": "stream",
     "text": [
      "5\n"
     ]
    },
    {
     "data": {
      "image/png": "[encoded data removed]",
      "text/plain": [
       "<Figure size 432x288 with 1 Axes>"
      ]
     },
     "metadata": {
      "needs_background": "light"
     },
     "output_type": "display_data"
    }
   ],
   "source": [
    "import numpy as np\n",
    "data=np.array(mnist.data)/255\n",
    "label=np.array(mnist.target)\n",
    "plt.imshow(data[0].reshape(28,28))\n",
    "print(label[0])"
   ]
  },
  {
   "cell_type": "code",
   "execution_count": 4,
   "id": "eed58cfd",
   "metadata": {},
   "outputs": [],
   "source": [
    "tx,vx,ty,vy=model_selection.train_test_split(data,label)"
   ]
  },
  {
   "cell_type": "code",
   "execution_count": 5,
   "id": "4d545379",
   "metadata": {},
   "outputs": [],
   "source": [
    "tx=torch.from_numpy(tx).float()\n",
    "ty=torch.from_numpy(ty.astype(int)).long()\n",
    "vx=torch.from_numpy(vx).float()\n",
    "vy=torch.from_numpy(vy.astype(int)).long()"
   ]
  },
  {
   "cell_type": "code",
   "execution_count": 6,
   "id": "33bc409a",
   "metadata": {},
   "outputs": [],
   "source": [
    "train=TensorDataset(tx,ty)\n",
    "train_loader=DataLoader(train,batch_size=100,shuffle=True)"
   ]
  },
  {
   "cell_type": "code",
   "execution_count": 7,
   "id": "9b025d58",
   "metadata": {},
   "outputs": [],
   "source": [
    "class Net(nn.Module):\n",
    "    def __init__(self):\n",
    "        super(Net,self).__init__()\n",
    "        self.fc1=nn.Linear(784,256)\n",
    "        self.fc2=nn.Linear(256,256)\n",
    "        self.fc3=nn.Linear(256,256)\n",
    "        self.fc4=nn.Linear(256,128)\n",
    "        self.fc5=nn.Linear(128,128)\n",
    "        self.fc6=nn.Linear(128,10)\n",
    "    \n",
    "    def forward(self, x):\n",
    "        x=F.relu(self.fc1(x))\n",
    "        x=F.relu(self.fc2(x))\n",
    "        x=F.relu(self.fc3(x))\n",
    "        x=F.relu(self.fc4(x))\n",
    "        x=F.relu(self.fc5(x))\n",
    "        x=F.dropout(x,training=self.training)\n",
    "        x=self.fc6(x)\n",
    "        return F.log_softmax(x,dim=0)\n",
    "    \n",
    "model=Net()"
   ]
  },
  {
   "cell_type": "code",
   "execution_count": 11,
   "id": "37c2dd88",
   "metadata": {
    "scrolled": true
   },
   "outputs": [
    {
     "name": "stdout",
     "output_type": "stream",
     "text": [
      "10 tensor(0.2325)\n",
      "20 tensor(0.2837)\n",
      "30 tensor(0.3039)\n",
      "40 tensor(0.2085)\n",
      "50 tensor(0.3234)\n",
      "60 tensor(0.1672)\n",
      "70 tensor(0.3355)\n",
      "80 tensor(0.6170)\n",
      "90 tensor(0.1502)\n",
      "100 tensor(0.1810)\n"
     ]
    }
   ],
   "source": [
    "criterion=nn.CrossEntropyLoss()\n",
    "optimizer=optim.SGD(model.parameters(),lr=0.01)\n",
    "for epoch in range(100):\n",
    "    total_loss=0\n",
    "    for tx,ty in train_loader:\n",
    "        tx,ty=Variable(tx),Variable(ty)\n",
    "        optimizer.zero_grad()\n",
    "        output=model(tx)\n",
    "        loss=criterion(output,ty)\n",
    "        loss.backward()\n",
    "        optimizer.step()\n",
    "        total_loss+=loss.data\n",
    "        \n",
    "    if (epoch+1)%10 == 0:\n",
    "        print(epoch+1,total_loss)"
   ]
  },
  {
   "cell_type": "code",
   "execution_count": 12,
   "id": "4bbfae42",
   "metadata": {},
   "outputs": [
    {
     "data": {
      "text/plain": [
       "0.9708571428571429"
      ]
     },
     "execution_count": 12,
     "metadata": {},
     "output_type": "execute_result"
    }
   ],
   "source": [
    "vx,vy=Variable(vx),Variable(vy)\n",
    "result=torch.max(model(vx).data,1)[1]\n",
    "acc=sum(vy.data.numpy()==result.numpy())/len(vy.data.numpy())\n",
    "\n",
    "acc"
   ]
  },
  {
   "cell_type": "code",
   "execution_count": null,
   "id": "7d1cf2ba",
   "metadata": {},
   "outputs": [],
   "source": []
  },
  {
   "cell_type": "code",
   "execution_count": null,
   "id": "1f29280c",
   "metadata": {},
   "outputs": [],
   "source": []
  }
 ],
 "metadata": {
  "kernelspec": {
   "display_name": "Python 3 (ipykernel)",
   "language": "python",
   "name": "python3"
  },
  "language_info": {
   "codemirror_mode": {
    "name": "ipython",
    "version": 3
   },
   "file_extension": ".py",
   "mimetype": "text/x-python",
   "name": "python",
   "nbconvert_exporter": "python",
   "pygments_lexer": "ipython3",
   "version": "3.9.7"
  }
 },
 "nbformat": 4,
 "nbformat_minor": 5
}
